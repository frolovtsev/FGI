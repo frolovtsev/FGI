{
  "nbformat": 4,
  "nbformat_minor": 0,
  "metadata": {
    "colab": {
      "provenance": [],
      "authorship_tag": "ABX9TyPmgk7/Su3aM/AKULxT4CVN",
      "include_colab_link": true
    },
    "kernelspec": {
      "name": "python3",
      "display_name": "Python 3"
    },
    "language_info": {
      "name": "python"
    }
  },
  "cells": [
    {
      "cell_type": "markdown",
      "metadata": {
        "id": "view-in-github",
        "colab_type": "text"
      },
      "source": [
        "<a href=\"https://colab.research.google.com/github/frolovtsev/FGI/blob/main/fiber_datasets.ipynb\" target=\"_parent\"><img src=\"https://colab.research.google.com/assets/colab-badge.svg\" alt=\"Open In Colab\"/></a>"
      ]
    },
    {
      "cell_type": "code",
      "execution_count": null,
      "metadata": {
        "id": "zQ0LVd6R14v3"
      },
      "outputs": [],
      "source": [
        "from IPython.display import clear_output\n",
        "!pip install pymmf\n",
        "clear_output()"
      ]
    },
    {
      "cell_type": "code",
      "source": [
        "import numpy as np\n",
        "import json\n",
        "\n",
        "class FiberParams:\n",
        "    def __init__(self, NA=0.20, radius=25., wavelength=1.55, fiber_type='GRIN', n_center=1.45,\n",
        "                 area_size=2.4*25, n_pixels_x=256):\n",
        "        self.NA = NA\n",
        "        self.radius = radius\n",
        "        self.wavelength = wavelength\n",
        "        self.fiber_type = fiber_type\n",
        "        self.n_center = n_center\n",
        "\n",
        "        self.area_size = area_size\n",
        "        self.n_pixels_x = n_pixels_x\n",
        "\n",
        "    def save_params(self, filename, mode='w', openfile=True):\n",
        "        if openfile:\n",
        "            with open(filename, mode=mode) as fp:\n",
        "                json.dump(self.__dict__, fp)\n",
        "        else:\n",
        "            json.dump(self.__dict__, filename)\n",
        "\n",
        "\n",
        "class ModeSolverParams:\n",
        "    def __init__(self, change_bc_radius_step=0.95, N_beta_coarse=1000,\n",
        "                 degenerate_mode='exp', min_radius_bc=1.5,\n",
        "                 r_max=3.2*25, n_points_search=2**8, dh=2*25/(2**8)):\n",
        "        self.change_bc_radius_step = change_bc_radius_step\n",
        "        self.N_beta_coarse = 1000\n",
        "        self.degenerate_mode = degenerate_mode\n",
        "        self.min_radius_bc = min_radius_bc\n",
        "        self.r_max = r_max\n",
        "        self.n_points_search = n_points_search\n",
        "        self.dh = dh\n",
        "\n",
        "    def save_params(self, filename, mode='w', openfile=True):\n",
        "        if openfile:\n",
        "            with open(filename, mode=mode) as fp:\n",
        "                json.dump(self.__dict__, fp)\n",
        "        else:\n",
        "            json.dump(self.__dict__, filename)"
      ],
      "metadata": {
        "id": "LiGNSLSP2GJU"
      },
      "execution_count": null,
      "outputs": []
    },
    {
      "cell_type": "code",
      "source": [
        "import pyMMF\n",
        "\n",
        "class ComplexModeSolver:\n",
        "    def __init__(self, fiber_params_obj, solver_params_obj):\n",
        "        self.fiber_params = fiber_params_obj\n",
        "        self.solver_params = solver_params_obj\n",
        "\n",
        "        self.profile = pyMMF.IndexProfile(npoints=self.fiber_params.n_pixels_x,\n",
        "                                          areaSize=self.fiber_params.area_size)\n",
        "        self.profile.initParabolicGRIN(n1=self.fiber_params.n_center,\n",
        "                                       a=self.fiber_params.radius,\n",
        "                                       NA=self.fiber_params.NA)\n",
        "        self.solver = pyMMF.propagationModeSolver()\n",
        "        self.solver.setIndexProfile(self.profile)\n",
        "        self.solver.setWL(self.fiber_params.wavelength)\n",
        "\n",
        "    def solve(self):\n",
        "        modes = self.solver.solve(mode='radial',\n",
        "                                  curvature=None,\n",
        "                                  r_max=self.solver_params.r_max,\n",
        "                                  dh=self.solver_params.dh,\n",
        "                                  min_radius_bc=self.solver_params.min_radius_bc,\n",
        "                                  change_bc_radius_step=self.solver_params.change_bc_radius_step,\n",
        "                                  N_beta_coarse=self.solver_params.N_beta_coarse,\n",
        "                                  degenerate_mode=self.solver_params.degenerate_mode)\n",
        "        clear_output()\n",
        "        return modes"
      ],
      "metadata": {
        "id": "3QztFLs-q2TH"
      },
      "execution_count": null,
      "outputs": []
    },
    {
      "cell_type": "code",
      "source": [
        "fiber_params = FiberParams()\n",
        "solver_params = ModeSolverParams()\n",
        "solver = ComplexModeSolver(fiber_params, solver_params)\n",
        "\n",
        "modes = solver.solve()"
      ],
      "metadata": {
        "id": "VQkN-eFN9LNa"
      },
      "execution_count": null,
      "outputs": []
    },
    {
      "cell_type": "code",
      "source": [
        "class ModesIntensityObtainer:\n",
        "    '''\n",
        "    returns list with intensity profiles, as well as list with periodicities,\n",
        "    i.e. periodicity=2 means that rotation 2pi/2 gives the original result.\n",
        "    for centrosymmetric profiles, periodicity=1\n",
        "    '''\n",
        "    def __init__(self, modes, tol=0.001):\n",
        "        self.modes = modes\n",
        "        self.tol = tol\n",
        "        groups_of_neardeg_modes = np.array(self.modes.getNearDegenerate(tol=self.tol))\n",
        "        l = np.array(self.modes.l)\n",
        "        m = np.array(self.modes.m)\n",
        "\n",
        "        self.intensity_profiles = []\n",
        "        self.periodisities = []\n",
        "\n",
        "        for group in groups_of_neardeg_modes:\n",
        "            m_group = m[group]\n",
        "            l_group = l[group]\n",
        "\n",
        "            \n",
        "\n",
        "\n",
        "\n"
      ],
      "metadata": {
        "id": "-AQRdZNi-WWV"
      },
      "execution_count": null,
      "outputs": []
    },
    {
      "cell_type": "code",
      "source": [
        "matr = modes.getModeMatrix()"
      ],
      "metadata": {
        "id": "XOIyeFLKp4NV"
      },
      "execution_count": null,
      "outputs": []
    },
    {
      "cell_type": "code",
      "source": [
        "matr[:,0].reshape((256,256))"
      ],
      "metadata": {
        "colab": {
          "base_uri": "https://localhost:8080/"
        },
        "id": "RghTNAjs_SV1",
        "outputId": "569f751c-7c1a-4029-c4bd-b11a5a1144b2"
      },
      "execution_count": null,
      "outputs": [
        {
          "output_type": "execute_result",
          "data": {
            "text/plain": [
              "array([[ 1.23659896e-19+0.j, -1.96001207e-19+0.j, -1.22712734e-19+0.j,\n",
              "        ..., -1.22712734e-19+0.j, -1.96001207e-19+0.j,\n",
              "         1.23659896e-19+0.j],\n",
              "       [-1.96001207e-19+0.j, -9.22962652e-20+0.j,  2.25294951e-18+0.j,\n",
              "        ...,  2.25294951e-18+0.j, -9.22962652e-20+0.j,\n",
              "        -1.96001207e-19+0.j],\n",
              "       [-1.22712734e-19+0.j,  2.25294951e-18+0.j, -1.13352347e-17+0.j,\n",
              "        ..., -1.13352347e-17+0.j,  2.25294951e-18+0.j,\n",
              "        -1.22712734e-19+0.j],\n",
              "       ...,\n",
              "       [-1.22712734e-19+0.j,  2.25294951e-18+0.j, -1.13352347e-17+0.j,\n",
              "        ..., -1.13352347e-17+0.j,  2.25294951e-18+0.j,\n",
              "        -1.22712734e-19+0.j],\n",
              "       [-1.96001207e-19+0.j, -9.22962652e-20+0.j,  2.25294951e-18+0.j,\n",
              "        ...,  2.25294951e-18+0.j, -9.22962652e-20+0.j,\n",
              "        -1.96001207e-19+0.j],\n",
              "       [ 1.23659896e-19+0.j, -1.96001207e-19+0.j, -1.22712734e-19+0.j,\n",
              "        ..., -1.22712734e-19+0.j, -1.96001207e-19+0.j,\n",
              "         1.23659896e-19+0.j]])"
            ]
          },
          "metadata": {},
          "execution_count": 7
        }
      ]
    },
    {
      "cell_type": "code",
      "source": [
        "modes.profiles[0].reshape((256,256))"
      ],
      "metadata": {
        "colab": {
          "base_uri": "https://localhost:8080/"
        },
        "id": "497v3JPhLMS4",
        "outputId": "6f229581-9198-4f16-d91b-cb56167e033f"
      },
      "execution_count": null,
      "outputs": [
        {
          "output_type": "execute_result",
          "data": {
            "text/plain": [
              "array([[ 1.23659896e-19, -1.96001207e-19, -1.22712734e-19, ...,\n",
              "        -1.22712734e-19, -1.96001207e-19,  1.23659896e-19],\n",
              "       [-1.96001207e-19, -9.22962652e-20,  2.25294951e-18, ...,\n",
              "         2.25294951e-18, -9.22962652e-20, -1.96001207e-19],\n",
              "       [-1.22712734e-19,  2.25294951e-18, -1.13352347e-17, ...,\n",
              "        -1.13352347e-17,  2.25294951e-18, -1.22712734e-19],\n",
              "       ...,\n",
              "       [-1.22712734e-19,  2.25294951e-18, -1.13352347e-17, ...,\n",
              "        -1.13352347e-17,  2.25294951e-18, -1.22712734e-19],\n",
              "       [-1.96001207e-19, -9.22962652e-20,  2.25294951e-18, ...,\n",
              "         2.25294951e-18, -9.22962652e-20, -1.96001207e-19],\n",
              "       [ 1.23659896e-19, -1.96001207e-19, -1.22712734e-19, ...,\n",
              "        -1.22712734e-19, -1.96001207e-19,  1.23659896e-19]])"
            ]
          },
          "metadata": {},
          "execution_count": 8
        }
      ]
    },
    {
      "cell_type": "code",
      "source": [
        "import matplotlib.pyplot as plt\n",
        "\n",
        "plt.imshow(np.abs(modes.profiles[47].reshape((256,256))-np.exp(1j*np.pi)*modes.profiles[54].reshape((256,256)))**2)"
      ],
      "metadata": {
        "colab": {
          "base_uri": "https://localhost:8080/",
          "height": 287
        },
        "id": "iVPZomjmBpCI",
        "outputId": "64cc33f6-d0b5-4759-dfcd-dbe218795cce"
      },
      "execution_count": null,
      "outputs": [
        {
          "output_type": "execute_result",
          "data": {
            "text/plain": [
              "<matplotlib.image.AxesImage at 0x7ff4eb7d0220>"
            ]
          },
          "metadata": {},
          "execution_count": 20
        },
        {
          "output_type": "display_data",
          "data": {
            "text/plain": [
              "<Figure size 432x288 with 1 Axes>"
            ],
            "image/png": "[encoded data removed]"
          },
          "metadata": {
            "needs_background": "light"
          }
        }
      ]
    },
    {
      "cell_type": "code",
      "source": [
        "np.array(modes.getNearDegenerate(tol=0.001)[9])"
      ],
      "metadata": {
        "colab": {
          "base_uri": "https://localhost:8080/"
        },
        "id": "KyAJgtZVB-xT",
        "outputId": "2575ac13-49e6-447b-9736-1842140627cf"
      },
      "execution_count": null,
      "outputs": [
        {
          "output_type": "execute_result",
          "data": {
            "text/plain": [
              "array([45, 46, 47, 48, 49, 50, 51, 52, 53, 54])"
            ]
          },
          "metadata": {},
          "execution_count": 10
        }
      ]
    },
    {
      "cell_type": "code",
      "source": [
        "np.array(modes.m)[np.array(modes.getNearDegenerate(tol=0.001)[9])]"
      ],
      "metadata": {
        "colab": {
          "base_uri": "https://localhost:8080/"
        },
        "id": "TpDOwUMYCBxX",
        "outputId": "61977670-f430-4b05-a750-518db6f36d54"
      },
      "execution_count": null,
      "outputs": [
        {
          "output_type": "execute_result",
          "data": {
            "text/plain": [
              "array([-1,  1,  3, -3,  5, -5, -7,  7, -9,  9])"
            ]
          },
          "metadata": {},
          "execution_count": 11
        }
      ]
    },
    {
      "cell_type": "code",
      "source": [
        "modes.getNearDegenerate(tol=0.001)"
      ],
      "metadata": {
        "colab": {
          "base_uri": "https://localhost:8080/"
        },
        "id": "ym5g8mmHQTze",
        "outputId": "dc54a0c3-ece6-44a3-dfd6-08d94326c2ee"
      },
      "execution_count": null,
      "outputs": [
        {
          "output_type": "execute_result",
          "data": {
            "text/plain": [
              "[[0],\n",
              " [1, 2],\n",
              " [3, 4, 5],\n",
              " [6, 7, 8, 9],\n",
              " [10, 11, 12, 13, 14],\n",
              " [15, 16, 17, 18, 19, 20],\n",
              " [21, 22, 23, 24, 25, 26, 27],\n",
              " [28, 29, 30, 31, 32, 33, 34, 35],\n",
              " [36, 37, 38, 39, 40, 41, 42, 43, 44],\n",
              " [45, 46, 47, 48, 49, 50, 51, 52, 53, 54]]"
            ]
          },
          "metadata": {},
          "execution_count": 12
        }
      ]
    },
    {
      "cell_type": "code",
      "source": [
        "24/1.5\n"
      ],
      "metadata": {
        "colab": {
          "base_uri": "https://localhost:8080/"
        },
        "id": "3AlBEzk6V_1F",
        "outputId": "233a8485-a63c-46d1-c77e-8797853de838"
      },
      "execution_count": null,
      "outputs": [
        {
          "output_type": "execute_result",
          "data": {
            "text/plain": [
              "16.0"
            ]
          },
          "metadata": {},
          "execution_count": 13
        }
      ]
    },
    {
      "cell_type": "code",
      "source": [
        "60/2"
      ],
      "metadata": {
        "colab": {
          "base_uri": "https://localhost:8080/"
        },
        "id": "c5Zd4XaK-ztV",
        "outputId": "00f7d82a-a499-4480-c6e0-b290ee800cf7"
      },
      "execution_count": null,
      "outputs": [
        {
          "output_type": "execute_result",
          "data": {
            "text/plain": [
              "30.0"
            ]
          },
          "metadata": {},
          "execution_count": 14
        }
      ]
    },
    {
      "cell_type": "code",
      "source": [
        "60/24"
      ],
      "metadata": {
        "colab": {
          "base_uri": "https://localhost:8080/"
        },
        "id": "mJvWGuAR-176",
        "outputId": "ffc3bd91-8ebd-46f4-8fa4-dac68c80a8c4"
      },
      "execution_count": null,
      "outputs": [
        {
          "output_type": "execute_result",
          "data": {
            "text/plain": [
              "2.5"
            ]
          },
          "metadata": {},
          "execution_count": 15
        }
      ]
    },
    {
      "cell_type": "code",
      "source": [
        "4/3"
      ],
      "metadata": {
        "colab": {
          "base_uri": "https://localhost:8080/"
        },
        "id": "MSEFBTJE-9TO",
        "outputId": "74848f5b-611c-48d8-c814-fa96c5217c85"
      },
      "execution_count": null,
      "outputs": [
        {
          "output_type": "execute_result",
          "data": {
            "text/plain": [
              "1.3333333333333333"
            ]
          },
          "metadata": {},
          "execution_count": 16
        }
      ]
    },
    {
      "cell_type": "code",
      "source": [
        "60*2.54/200"
      ],
      "metadata": {
        "colab": {
          "base_uri": "https://localhost:8080/"
        },
        "id": "9laoqmIy--27",
        "outputId": "932bf083-2f8b-48bd-ab8b-44c51e28a43b"
      },
      "execution_count": null,
      "outputs": [
        {
          "output_type": "execute_result",
          "data": {
            "text/plain": [
              "0.762"
            ]
          },
          "metadata": {},
          "execution_count": 17
        }
      ]
    },
    {
      "cell_type": "code",
      "source": [],
      "metadata": {
        "id": "FXgUmupF_JkY"
      },
      "execution_count": null,
      "outputs": []
    }
  ]
}